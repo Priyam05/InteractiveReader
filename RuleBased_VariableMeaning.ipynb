{
 "cells": [
  {
   "cell_type": "markdown",
   "metadata": {},
   "source": [
    "## Read and get variable names from the file"
   ]
  },
  {
   "cell_type": "code",
   "execution_count": 4,
   "metadata": {},
   "outputs": [],
   "source": [
    "with open(\"Sample.txt\") as file:\n",
    "    data = file.read()"
   ]
  },
  {
   "cell_type": "code",
   "execution_count": 5,
   "metadata": {},
   "outputs": [
    {
     "data": {
      "text/plain": [
       "\"Gravity Equation\\nThere is not one, not two, not even three gravity equations, but many!\\n\\nThe one most people know describes Newton’s universal law of gravitation:\\n\\n[F] = [G][m1][m2]/[r]^2,\\nwhere F is the force due to gravity, m1 and m2 are masses, r is distance between m1 and m2, G is the gravitational constant.\\n\\n\\nAssuming SI units, F is measured in newtons (N), m1 and m2 in kilograms (kg), r in meters (m), and the constant G is approximately equal to 6.674×10-11 N m2 kg-2. The value of the constant G was first accurately determined from the results of the Cavendish experiment conducted by the British scientist Henry Cavendish in 1798, although Cavendish did not himself calculate a numerical value for G. This experiment was also the first test of Newton's theory of gravitation between masses in the laboratory. It took place 111 years after the publication of Newton's Principia and 71 years after Newton's death, so none of Newton's calculations could use the value of G; instead he could only calculate a force relative to another force.\""
      ]
     },
     "execution_count": 5,
     "metadata": {},
     "output_type": "execute_result"
    }
   ],
   "source": [
    "data"
   ]
  },
  {
   "cell_type": "code",
   "execution_count": 3,
   "metadata": {},
   "outputs": [],
   "source": [
    "#To store equations, meaning, location for each variable. Variable name will be the key and value will have a list of equation, meaning, and location \n",
    "variables={}"
   ]
  },
  {
   "cell_type": "code",
   "execution_count": 6,
   "metadata": {},
   "outputs": [],
   "source": [
    "#Variable names are tokenised using \"[]\"\n",
    "import re\n",
    "temp_variables=re.findall(r\"\\[([A-Za-z0-9_]+)\\]\", data)"
   ]
  },
  {
   "cell_type": "code",
   "execution_count": 7,
   "metadata": {},
   "outputs": [],
   "source": [
    "for variable in temp_variables:\n",
    "    variables[variable]=[]"
   ]
  },
  {
   "cell_type": "markdown",
   "metadata": {},
   "source": [
    "## Get meanings and location of the variables"
   ]
  },
  {
   "cell_type": "code",
   "execution_count": 13,
   "metadata": {},
   "outputs": [],
   "source": [
    "def findMeaning(variable, data):\n",
    "    check_threshold=3\n",
    "    token=\"[\"+variable+\"]\"\n",
    "    token_index=data.find(token)\n",
    "    sentences =data[token_index:].split(\".\")\n",
    "    #Check in next 3 sentences if you find the meaning\n",
    "    i=0\n",
    "    meaning=\"\"\n",
    "    while(i<check_threshold):\n",
    "        sentence=sentences[i]\n",
    "        if(((variable+\" \") in sentence) or ((\" \"+variable) in sentence)):   #Variable is always defined with a space. We need to check the conflict of variable names\n",
    "            meaning_index=sentence.find(variable+\" \")\n",
    "            sub_text=sentence[meaning_index:]\n",
    "            temp_meaning=re.search(r\"(.*?)[,|.]\", sub_text+\".\") #More delimiter can be added here\n",
    "            if(temp_meaning is not None):\n",
    "                meaning=temp_meaning.groups()\n",
    "            break\n",
    "        i+=1\n",
    "    \n",
    "    if(i==check_threshold):\n",
    "        meaning=\"No description found.\"\n",
    "    \n",
    "    \n",
    "    return token_index, meaning  #We can add more identifiers\n",
    "            \n",
    "        "
   ]
  },
  {
   "cell_type": "code",
   "execution_count": 7,
   "metadata": {},
   "outputs": [],
   "source": [
    "#Add data for each variable\n",
    "for key in variables.keys():\n",
    "    variables[key]=findMeaning(key, data)"
   ]
  },
  {
   "cell_type": "code",
   "execution_count": 8,
   "metadata": {},
   "outputs": [
    {
     "name": "stdout",
     "output_type": "stream",
     "text": [
      "variable:F, value:(164, ('F is the force due to gravity',))\n",
      "variable:G, value:(170, ('G is the gravitational constant',))\n",
      "variable:m1, value:(173, ('m1 and m2 are masses',))\n",
      "variable:m2, value:(177, ('m2 are masses',))\n",
      "variable:r, value:(182, ('r is distance between m1 and m2',))\n"
     ]
    }
   ],
   "source": [
    "for key in variables.keys():\n",
    "    print(\"variable:{0}, value:{1}\".format(key, variables[key]))"
   ]
  },
  {
   "cell_type": "markdown",
   "metadata": {},
   "source": [
    "## Check if a new text has variable. If yes, explain the meaning"
   ]
  },
  {
   "cell_type": "code",
   "execution_count": 9,
   "metadata": {},
   "outputs": [],
   "source": [
    "def checkExplanation(text, variables):\n",
    "    sentences=text.split(\".\")\n",
    "    for sentence in sentences:\n",
    "        words=sentence.split(\" \")\n",
    "        for word in words:\n",
    "            if(word in variables):\n",
    "                print(\"Sentence:{0}, \\nAdditional Information:{1}\\n\".format(sentence, variables[word][1]))"
   ]
  },
  {
   "cell_type": "code",
   "execution_count": 10,
   "metadata": {},
   "outputs": [],
   "source": [
    "text=\"Assuming SI units, F is measured in newtons (N), m1 and m2 in kilograms (kg), r in meters (m), and the constant G is approximately equal to 6.674×10-11 N m2 kg-2. The value of the constant G was first accurately determined from the results of the Cavendish experiment conducted by the British scientist Henry Cavendish in 1798, although Cavendish did not himself calculate a numerical value for G. This experiment was also the first test of Newton's theory of gravitation between masses in the laboratory. It took place 111 years after the publication of Newton's Principia and 71 years after Newton's death, so none of Newton's calculations could use the value of G; instead he could only calculate a force relative to another force.\""
   ]
  },
  {
   "cell_type": "code",
   "execution_count": 11,
   "metadata": {},
   "outputs": [
    {
     "data": {
      "text/plain": [
       "\"Assuming SI units, F is measured in newtons (N), m1 and m2 in kilograms (kg), r in meters (m), and the constant G is approximately equal to 6.674×10-11 N m2 kg-2. The value of the constant G was first accurately determined from the results of the Cavendish experiment conducted by the British scientist Henry Cavendish in 1798, although Cavendish did not himself calculate a numerical value for G. This experiment was also the first test of Newton's theory of gravitation between masses in the laboratory. It took place 111 years after the publication of Newton's Principia and 71 years after Newton's death, so none of Newton's calculations could use the value of G; instead he could only calculate a force relative to another force.\""
      ]
     },
     "execution_count": 11,
     "metadata": {},
     "output_type": "execute_result"
    }
   ],
   "source": [
    "text"
   ]
  },
  {
   "cell_type": "code",
   "execution_count": 12,
   "metadata": {},
   "outputs": [
    {
     "name": "stdout",
     "output_type": "stream",
     "text": [
      "Sentence:Assuming SI units, F is measured in newtons (N), m1 and m2 in kilograms (kg), r in meters (m), and the constant G is approximately equal to 6, \n",
      "Additional Information:('F is the force due to gravity',)\n",
      "\n",
      "Sentence:Assuming SI units, F is measured in newtons (N), m1 and m2 in kilograms (kg), r in meters (m), and the constant G is approximately equal to 6, \n",
      "Additional Information:('m1 and m2 are masses',)\n",
      "\n",
      "Sentence:Assuming SI units, F is measured in newtons (N), m1 and m2 in kilograms (kg), r in meters (m), and the constant G is approximately equal to 6, \n",
      "Additional Information:('m2 are masses',)\n",
      "\n",
      "Sentence:Assuming SI units, F is measured in newtons (N), m1 and m2 in kilograms (kg), r in meters (m), and the constant G is approximately equal to 6, \n",
      "Additional Information:('r is distance between m1 and m2',)\n",
      "\n",
      "Sentence:Assuming SI units, F is measured in newtons (N), m1 and m2 in kilograms (kg), r in meters (m), and the constant G is approximately equal to 6, \n",
      "Additional Information:('G is the gravitational constant',)\n",
      "\n",
      "Sentence:674×10-11 N m2 kg-2, \n",
      "Additional Information:('m2 are masses',)\n",
      "\n",
      "Sentence: The value of the constant G was first accurately determined from the results of the Cavendish experiment conducted by the British scientist Henry Cavendish in 1798, although Cavendish did not himself calculate a numerical value for G, \n",
      "Additional Information:('G is the gravitational constant',)\n",
      "\n",
      "Sentence: The value of the constant G was first accurately determined from the results of the Cavendish experiment conducted by the British scientist Henry Cavendish in 1798, although Cavendish did not himself calculate a numerical value for G, \n",
      "Additional Information:('G is the gravitational constant',)\n",
      "\n"
     ]
    }
   ],
   "source": [
    "checkExplanation(text, variables)"
   ]
  },
  {
   "cell_type": "code",
   "execution_count": null,
   "metadata": {},
   "outputs": [],
   "source": []
  }
 ],
 "metadata": {
  "kernelspec": {
   "display_name": "Python 3",
   "language": "python",
   "name": "python3"
  },
  "language_info": {
   "codemirror_mode": {
    "name": "ipython",
    "version": 3
   },
   "file_extension": ".py",
   "mimetype": "text/x-python",
   "name": "python",
   "nbconvert_exporter": "python",
   "pygments_lexer": "ipython3",
   "version": "3.7.3"
  }
 },
 "nbformat": 4,
 "nbformat_minor": 2
}
